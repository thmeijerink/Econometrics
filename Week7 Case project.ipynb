{
 "cells": [
  {
   "cell_type": "markdown",
   "id": "e9e19d62",
   "metadata": {},
   "source": [
    "# Econometrics Week 7 Case Project\n",
    "\n",
    "| Name | Description | Date \n",
    "| :- |-------------: | :-:\n",
    "|Thijs Meijerink| Econometrics| 28th of December 2022 |\n"
   ]
  },
  {
   "cell_type": "markdown",
   "id": "ba10769c",
   "metadata": {},
   "source": [
    "## Questions\n",
    "<ul>\n",
    "<li><a href=\"#prep\">Preparation</a></li>\n",
    "<li><a href=\"#a\">a</a></li>\n",
    "<li><a href=\"#b\">b</a></li>\n",
    "<li><a href=\"#c\">c</a></li>\n",
    "<li><a href=\"#d\">d</a></li>\n",
    "<li><a href=\"#e\">e</a></li>\n",
    "<li><a href=\"#f\">f</a></li>\n",
    "<li><a href=\"#g\">g</a></li>\n",
    "</ul>\n"
   ]
  },
  {
   "cell_type": "markdown",
   "id": "4cbcd6b3",
   "metadata": {},
   "source": [
    "<a id='prep'></a>\n",
    "## Preparation"
   ]
  },
  {
   "cell_type": "code",
   "execution_count": 1,
   "id": "c522c454",
   "metadata": {},
   "outputs": [],
   "source": [
    "import numpy as np\n",
    "import pandas as pd\n",
    "import math\n",
    "import matplotlib.pyplot as plt\n",
    "from sklearn.linear_model import LogisticRegression\n",
    "from sklearn.metrics import confusion_matrix\n",
    "from statsmodels.tsa.stattools import adfuller\n",
    "import statsmodels.stats.diagnostic as dg\n",
    "import statsmodels.api as sm\n",
    "import scipy"
   ]
  },
  {
   "cell_type": "code",
   "execution_count": 2,
   "id": "6a10d6de",
   "metadata": {},
   "outputs": [
    {
     "data": {
      "text/html": [
       "<div>\n",
       "<style scoped>\n",
       "    .dataframe tbody tr th:only-of-type {\n",
       "        vertical-align: middle;\n",
       "    }\n",
       "\n",
       "    .dataframe tbody tr th {\n",
       "        vertical-align: top;\n",
       "    }\n",
       "\n",
       "    .dataframe thead th {\n",
       "        text-align: right;\n",
       "    }\n",
       "</style>\n",
       "<table border=\"1\" class=\"dataframe\">\n",
       "  <thead>\n",
       "    <tr style=\"text-align: right;\">\n",
       "      <th></th>\n",
       "      <th>Date</th>\n",
       "      <th>GDP</th>\n",
       "      <th>GDPIMPR</th>\n",
       "      <th>LOGGDP</th>\n",
       "      <th>GrowthRate</th>\n",
       "      <th>li1</th>\n",
       "      <th>li2</th>\n",
       "      <th>T</th>\n",
       "      <th>date</th>\n",
       "      <th>li1min1</th>\n",
       "      <th>li2min1</th>\n",
       "      <th>li1min2</th>\n",
       "      <th>li2min2</th>\n",
       "      <th>GrowthRatemin1</th>\n",
       "    </tr>\n",
       "  </thead>\n",
       "  <tbody>\n",
       "    <tr>\n",
       "      <th>0</th>\n",
       "      <td>1950Q1</td>\n",
       "      <td>94.300</td>\n",
       "      <td>NaN</td>\n",
       "      <td>4.546481</td>\n",
       "      <td>NaN</td>\n",
       "      <td>0</td>\n",
       "      <td>0</td>\n",
       "      <td>0</td>\n",
       "      <td>1950-01-01</td>\n",
       "      <td>NaN</td>\n",
       "      <td>NaN</td>\n",
       "      <td>NaN</td>\n",
       "      <td>NaN</td>\n",
       "      <td>NaN</td>\n",
       "    </tr>\n",
       "    <tr>\n",
       "      <th>1</th>\n",
       "      <td>1950Q2</td>\n",
       "      <td>95.200</td>\n",
       "      <td>1.0</td>\n",
       "      <td>4.555980</td>\n",
       "      <td>0.009499</td>\n",
       "      <td>0</td>\n",
       "      <td>0</td>\n",
       "      <td>1</td>\n",
       "      <td>1950-04-01</td>\n",
       "      <td>0.0</td>\n",
       "      <td>0.0</td>\n",
       "      <td>NaN</td>\n",
       "      <td>NaN</td>\n",
       "      <td>NaN</td>\n",
       "    </tr>\n",
       "    <tr>\n",
       "      <th>2</th>\n",
       "      <td>1950Q3</td>\n",
       "      <td>97.663</td>\n",
       "      <td>1.0</td>\n",
       "      <td>4.581523</td>\n",
       "      <td>0.025543</td>\n",
       "      <td>3</td>\n",
       "      <td>1</td>\n",
       "      <td>2</td>\n",
       "      <td>1950-07-01</td>\n",
       "      <td>0.0</td>\n",
       "      <td>0.0</td>\n",
       "      <td>0.0</td>\n",
       "      <td>0.0</td>\n",
       "      <td>0.009499</td>\n",
       "    </tr>\n",
       "    <tr>\n",
       "      <th>3</th>\n",
       "      <td>1950Q4</td>\n",
       "      <td>99.728</td>\n",
       "      <td>1.0</td>\n",
       "      <td>4.602446</td>\n",
       "      <td>0.020924</td>\n",
       "      <td>4</td>\n",
       "      <td>2</td>\n",
       "      <td>3</td>\n",
       "      <td>1950-10-01</td>\n",
       "      <td>3.0</td>\n",
       "      <td>1.0</td>\n",
       "      <td>0.0</td>\n",
       "      <td>0.0</td>\n",
       "      <td>0.025543</td>\n",
       "    </tr>\n",
       "    <tr>\n",
       "      <th>4</th>\n",
       "      <td>1951Q1</td>\n",
       "      <td>100.445</td>\n",
       "      <td>1.0</td>\n",
       "      <td>4.609610</td>\n",
       "      <td>0.007164</td>\n",
       "      <td>2</td>\n",
       "      <td>1</td>\n",
       "      <td>4</td>\n",
       "      <td>1951-01-01</td>\n",
       "      <td>4.0</td>\n",
       "      <td>2.0</td>\n",
       "      <td>3.0</td>\n",
       "      <td>1.0</td>\n",
       "      <td>0.020924</td>\n",
       "    </tr>\n",
       "  </tbody>\n",
       "</table>\n",
       "</div>"
      ],
      "text/plain": [
       "     Date      GDP  GDPIMPR    LOGGDP  GrowthRate  li1  li2  T       date  \\\n",
       "0  1950Q1   94.300      NaN  4.546481         NaN    0    0  0 1950-01-01   \n",
       "1  1950Q2   95.200      1.0  4.555980    0.009499    0    0  1 1950-04-01   \n",
       "2  1950Q3   97.663      1.0  4.581523    0.025543    3    1  2 1950-07-01   \n",
       "3  1950Q4   99.728      1.0  4.602446    0.020924    4    2  3 1950-10-01   \n",
       "4  1951Q1  100.445      1.0  4.609610    0.007164    2    1  4 1951-01-01   \n",
       "\n",
       "   li1min1  li2min1  li1min2  li2min2  GrowthRatemin1  \n",
       "0      NaN      NaN      NaN      NaN             NaN  \n",
       "1      0.0      0.0      NaN      NaN             NaN  \n",
       "2      0.0      0.0      0.0      0.0        0.009499  \n",
       "3      3.0      1.0      0.0      0.0        0.025543  \n",
       "4      4.0      2.0      3.0      1.0        0.020924  "
      ]
     },
     "execution_count": 2,
     "metadata": {},
     "output_type": "execute_result"
    }
   ],
   "source": [
    "file_location=\"./Case_GDP-round2.xls\"\n",
    "data = pd.read_excel(file_location)\n",
    "data['date'] = pd.PeriodIndex(data['Date'], freq='Q').to_timestamp()\n",
    "data['li1min1']=data['li1'].shift(1)\n",
    "data['li2min1']=data['li2'].shift(1)\n",
    "data['li1min2']=data['li1'].shift(2)\n",
    "data['li2min2']=data['li2'].shift(2)\n",
    "data['GrowthRatemin1']=data['GrowthRate'].shift(1)\n",
    "data.head() # sample data"
   ]
  },
  {
   "cell_type": "markdown",
   "id": "41654345",
   "metadata": {},
   "source": [
    "<a id='a'></a>\n",
    "## a\n",
    "The table below summarizes the outcomes of four logit models to explain the direction of economic development\n",
    "(GDPIMPR) for the period 1951 to 2010. Perform three Likelihood Ratio tests to prove both the individual and\n",
    "the joint significance of the 1-quarter lags of li1 and li2, where the alternative hypothesis is always the model\n",
    "with both indicators included.\n",
    "\n",
    "<img src=\"week7a.png\" alt=\"Alternative text\" />"
   ]
  },
  {
   "cell_type": "code",
   "execution_count": 3,
   "id": "6890117b",
   "metadata": {},
   "outputs": [
    {
     "name": "stdout",
     "output_type": "stream",
     "text": [
      "li1 LR statistic: 30.685799999999972\n",
      "critical value of LR statistic; 3.033771341804778e-08\n",
      "\n",
      "\n",
      "li2 LR statistic: 11.137800000000027\n",
      "critical value of LR statistic; 0.0008458615201582619\n",
      "\n",
      "\n",
      "li1,li2 LR statistic: 37.16980000000001\n",
      "critical value of LR statistic; 8.485559504584122e-09\n"
     ]
    }
   ],
   "source": [
    "#calculate likelihood ratio Chi-Squared test statistic\n",
    "LR_statistic = -2*(-149.521-(-134.1781))\n",
    "print('li1 LR statistic: '+str(LR_statistic))\n",
    "#calculate p-value of test statistic using 1 degrees of freedom\n",
    "p_val = scipy.stats.chi2.sf(LR_statistic, 1)\n",
    "print('critical value of LR statistic; '+str(p_val))\n",
    "print(\"\\n\")\n",
    "\n",
    "#calculate likelihood ratio Chi-Squared test statistic\n",
    "LR_statistic = -2*(-139.747-(-134.1781))\n",
    "print('li2 LR statistic: '+str(LR_statistic))\n",
    "#calculate p-value of test statistic using 1 degrees of freedom\n",
    "p_val = scipy.stats.chi2.sf(LR_statistic, 1)\n",
    "print('critical value of LR statistic; '+str(p_val))\n",
    "print(\"\\n\")\n",
    "\n",
    "#calculate likelihood ratio Chi-Squared test statistic\n",
    "LR_statistic = -2*(-152.763-(-134.1781))\n",
    "print('li1,li2 LR statistic: '+str(LR_statistic))\n",
    "#calculate p-value of test statistic using 2 degrees of freedom\n",
    "p_val = scipy.stats.chi2.sf(LR_statistic, 2)\n",
    "print('critical value of LR statistic; '+str(p_val))"
   ]
  },
  {
   "cell_type": "markdown",
   "id": "d85f15be",
   "metadata": {},
   "source": [
    "#### Answer:\n",
    "Concluding: all three are significant (critical value < 0.05)"
   ]
  },
  {
   "cell_type": "markdown",
   "id": "4e3923d4",
   "metadata": {},
   "source": [
    "<a id='b'></a>\n",
    "## b\n",
    "It could be that the leading indicators lead the economy by more than 1 quarter. The table below summarizes\n",
    "outcomes of four logit models that differ in the lags of the indicators. For what reason can we use McFadden\n",
    "R2 to select the best lag structure among these four models? Compute the four values of McFadden R2 (with\n",
    "four decimals) and conclude which model is optimal according to this criterion.\n",
    "\n",
    "<img src=\"week7b.png\" alt=\"Alternative text\" />"
   ]
  },
  {
   "cell_type": "code",
   "execution_count": 4,
   "id": "62895d36",
   "metadata": {},
   "outputs": [
    {
     "name": "stdout",
     "output_type": "stream",
     "text": [
      "Model 1 McFadden R2= 0.12165904047446052\n",
      "Model 2 McFadden R2= 0.12199943703645522\n",
      "Model 3 McFadden R2= 0.1467436486583793\n",
      "Model 4 McFadden R2= 0.14599084856935252\n"
     ]
    }
   ],
   "source": [
    "Model1=1-((-134.178)/(-152.763))\n",
    "Model2=1-((-134.126)/(-152.763))\n",
    "Model3=1-((-130.346)/(-152.763))\n",
    "Model4=1-((-130.461)/(-152.763))\n",
    "print('Model 1 McFadden R2= '+str(Model1))\n",
    "print('Model 2 McFadden R2= '+str(Model2))\n",
    "print('Model 3 McFadden R2= '+str(Model3))\n",
    "print('Model 4 McFadden R2= '+str(Model4))"
   ]
  },
  {
   "cell_type": "markdown",
   "id": "e9978639",
   "metadata": {},
   "source": [
    "#### Answer:\n",
    "McFadden R2 can be used because variables and amount of coefficients are the same\n",
    "\n",
    "Model 3 performs best as R2 is highest, thus variables l1(-2) and l2(-1)"
   ]
  },
  {
   "cell_type": "markdown",
   "id": "ba193aee",
   "metadata": {},
   "source": [
    "<a id='c'></a>\n",
    "## c\n",
    "Use the logit model 3 of part (b) (with li1(-2) and li2(-1)) to calculate the predicted probability of economic\n",
    "growth for each of the 20 quarters of the evaluation sample. Assess the predictive performance by means of\n",
    "the prediction-realization table and the hit rate, using a cut-off value of 0.5. Evaluate the outcomes."
   ]
  },
  {
   "cell_type": "code",
   "execution_count": 5,
   "id": "64ac302c",
   "metadata": {},
   "outputs": [
    {
     "name": "stdout",
     "output_type": "stream",
     "text": [
      "       Date  GDPIMPR  predict\n",
      "245  2011Q2      0.0      0.0\n",
      "246  2011Q3      0.0      0.0\n",
      "247  2011Q4      0.0      0.0\n",
      "248  2012Q1      1.0      0.0\n",
      "249  2012Q2      0.0      0.0\n",
      "250  2012Q3      1.0      0.0\n",
      "251  2012Q4      1.0      1.0\n",
      "252  2013Q1      1.0      1.0\n",
      "253  2013Q2      1.0      1.0\n",
      "254  2013Q3      1.0      1.0\n",
      "255  2013Q4      0.0      1.0\n",
      "256  2014Q1      0.0      1.0\n",
      "257  2014Q2      1.0      1.0\n",
      "258  2014Q3      1.0      1.0\n",
      "259  2014Q4      1.0      1.0\n",
      "260  2015Q1      1.0      1.0\n",
      "261  2015Q2      1.0      1.0\n",
      "262  2015Q3      1.0      1.0\n",
      "263  2015Q4      0.0      0.0\n",
      "\n",
      "\n",
      "Score is: 0.6983471074380165\n"
     ]
    }
   ],
   "source": [
    "subset=data[data['date']<'2011-01-01'].dropna(subset=['GDPIMPR','li2min1','li1min2'])\n",
    "evalset=data[data['date']>'2011-01-01'].dropna(subset=['GDPIMPR','li2min1','li1min2'])\n",
    "\n",
    "features = list(['li1min2','li2min1'])\n",
    "logreg=LogisticRegression()\n",
    "logreg.fit(subset[features],subset['GDPIMPR'])\n",
    "predict=logreg.predict(evalset[features])\n",
    "results=pd.DataFrame(evalset[['Date','GDPIMPR']])\n",
    "score=logreg.score(subset[features],subset['GDPIMPR'])\n",
    "results['predict']=predict.tolist()\n",
    "print(results)\n",
    "print(\"\\n\")\n",
    "print('Score is: '+str(score))"
   ]
  },
  {
   "cell_type": "markdown",
   "id": "2e721714",
   "metadata": {},
   "source": [
    "#### Answer:\n",
    "Thus high performing at 69%"
   ]
  },
  {
   "cell_type": "markdown",
   "id": "f394c2fd",
   "metadata": {},
   "source": [
    "<a id='d'></a>\n",
    "## d\n",
    "Perform the Augmented Dickey-Fuller test on LOGGDP to confirm that this variable is not stationary. Use only\n",
    "the data in the estimation sample and include constant, trend, and a single lag in the test equation (L = 1,\n",
    "see Lecture 6.4). Present the coefficients of the test regression and the relevant test statistic, and state your\n",
    "conclusion."
   ]
  },
  {
   "cell_type": "code",
   "execution_count": 6,
   "id": "f7757cab",
   "metadata": {},
   "outputs": [
    {
     "name": "stdout",
     "output_type": "stream",
     "text": [
      "ADF t-stat: -2.3711639040112926\n",
      "n_lags: 1\n",
      "p-value: 0.3950570593438284\n",
      "5% crit value: -3.4289434905960645\n"
     ]
    }
   ],
   "source": [
    "yt=subset[['LOGGDP']]\n",
    "#perform augmented Dickey-Fuller test\n",
    "result = adfuller(yt,maxlag=1, regression='ct')\n",
    "fiveper=result[4].get('5%')\n",
    "print(f'ADF t-stat: {result[0]}')\n",
    "print(f'n_lags: {result[2]}')\n",
    "print(f'p-value: {result[1]}')\n",
    "print(f'5% crit value: {fiveper}')"
   ]
  },
  {
   "cell_type": "markdown",
   "id": "67d9d634",
   "metadata": {},
   "source": [
    "#### Answer:\n",
    "t-stat > 5% critical value, thus H0 cannot be rejected. Thus LOGGDP is not stationary"
   ]
  },
  {
   "cell_type": "markdown",
   "id": "8bed20dc",
   "metadata": {},
   "source": [
    "<a id='e'></a>\n",
    "## e\n",
    "Consider the following model (see below). Here the numbers k1 and k2 denote the lag orders of the leading indicators. Estimate four versions of this model on the estimation sample from 1951 to 2010, by setting k1 and k2 equal to either 1 or 2. Show that the model with k1 = k2 = 1 gives the largest value for R2, and present the four coefficients of this model in six decimals.\n",
    "\n",
    "<img src=\"week7e.png\" alt=\"Alternative text\" />"
   ]
  },
  {
   "cell_type": "code",
   "execution_count": 7,
   "id": "0c9bd991",
   "metadata": {},
   "outputs": [
    {
     "name": "stdout",
     "output_type": "stream",
     "text": [
      "Model 1 R2= 0.49918635522117827\n",
      "Model 2 R2= 0.49899039095694164\n",
      "Model 3 R2= 0.473348346417532\n",
      "Model 4 R2= 0.4733228162782597\n"
     ]
    }
   ],
   "source": [
    "y=subset['GrowthRate']\n",
    "X=subset[['GrowthRatemin1','li1min1','li2min1']]\n",
    "X = sm.add_constant(X)\n",
    "\n",
    "X2=subset[['GrowthRatemin1','li1min1','li2min2']]\n",
    "X2= sm.add_constant(X2)\n",
    "\n",
    "X3=subset[['GrowthRatemin1','li1min2','li2min1']]\n",
    "X3= sm.add_constant(X3)\n",
    "\n",
    "X4=subset[['GrowthRatemin1','li1min2','li2min2']]\n",
    "X4= sm.add_constant(X4)\n",
    "\n",
    "model1=sm.OLS(y,X)\n",
    "res1=model1.fit()\n",
    "Model1=res1.rsquared\n",
    "\n",
    "model2=sm.OLS(y,X2)\n",
    "res2=model2.fit()\n",
    "Model2=res2.rsquared\n",
    "\n",
    "model3=sm.OLS(y,X3)\n",
    "res3=model3.fit()\n",
    "Model3=res3.rsquared\n",
    "\n",
    "model4=sm.OLS(y,X4)\n",
    "res4=model4.fit()\n",
    "Model4=res4.rsquared\n",
    "\n",
    "print('Model 1 R2= '+str(Model1))\n",
    "print('Model 2 R2= '+str(Model2))\n",
    "print('Model 3 R2= '+str(Model3))\n",
    "print('Model 4 R2= '+str(Model4))"
   ]
  },
  {
   "cell_type": "code",
   "execution_count": 8,
   "id": "5dd0b652",
   "metadata": {},
   "outputs": [
    {
     "name": "stdout",
     "output_type": "stream",
     "text": [
      "                            OLS Regression Results                            \n",
      "==============================================================================\n",
      "Dep. Variable:             GrowthRate   R-squared:                       0.499\n",
      "Model:                            OLS   Adj. R-squared:                  0.493\n",
      "Method:                 Least Squares   F-statistic:                     79.08\n",
      "Date:                Wed, 28 Dec 2022   Prob (F-statistic):           1.60e-35\n",
      "Time:                        13:06:50   Log-Likelihood:                 976.09\n",
      "No. Observations:                 242   AIC:                            -1944.\n",
      "Df Residuals:                     238   BIC:                            -1930.\n",
      "Df Model:                           3                                         \n",
      "Covariance Type:            nonrobust                                         \n",
      "==================================================================================\n",
      "                     coef    std err          t      P>|t|      [0.025      0.975]\n",
      "----------------------------------------------------------------------------------\n",
      "const              0.0017      0.000      5.059      0.000       0.001       0.002\n",
      "GrowthRatemin1     0.5094      0.049     10.464      0.000       0.413       0.605\n",
      "li1min1           -0.0010      0.000     -7.082      0.000      -0.001      -0.001\n",
      "li2min1           -0.0001   6.75e-05     -2.003      0.046      -0.000    -2.2e-06\n",
      "==============================================================================\n",
      "Omnibus:                       43.825   Durbin-Watson:                   1.957\n",
      "Prob(Omnibus):                  0.000   Jarque-Bera (JB):               89.434\n",
      "Skew:                           0.898   Prob(JB):                     3.80e-20\n",
      "Kurtosis:                       5.375   Cond. No.                         753.\n",
      "==============================================================================\n",
      "\n",
      "Notes:\n",
      "[1] Standard Errors assume that the covariance matrix of the errors is correctly specified.\n"
     ]
    }
   ],
   "source": [
    "print(res1.summary())"
   ]
  },
  {
   "cell_type": "markdown",
   "id": "a337fcbe",
   "metadata": {},
   "source": [
    "#### Answer:\n",
    "Model 1 performs best as R2 is highest, thus variables l1(-1) and l2(-1). Coefficients are shown in OLS summary."
   ]
  },
  {
   "cell_type": "markdown",
   "id": "8de20d6a",
   "metadata": {},
   "source": [
    "<a id='f'></a>\n",
    "## f\n",
    "Perform the Breusch-Godfrey test for first-order residual serial correlation for the model in part (e) with k1 =\n",
    "k2 = 1. Does the test outcome signal misspecification of the model?"
   ]
  },
  {
   "cell_type": "code",
   "execution_count": 9,
   "id": "1af9c69a",
   "metadata": {},
   "outputs": [
    {
     "name": "stdout",
     "output_type": "stream",
     "text": [
      "Breusch-Godfrey t-stat: 0.2371931569085819\n",
      "p-value: 0.6262407554272522\n"
     ]
    }
   ],
   "source": [
    "#perform Breusch-Godfrey test at order p = 3\n",
    "bgtest=dg.acorr_breusch_godfrey(res1, nlags=1)\n",
    "print('Breusch-Godfrey t-stat: '+str(bgtest[0]))\n",
    "print('p-value: '+str(bgtest[1]))"
   ]
  },
  {
   "cell_type": "markdown",
   "id": "29196ff7",
   "metadata": {},
   "source": [
    "#### Answer:\n",
    "t-stat > 5% critical value, thus H0 cannot be rejected. Thus no residual serial correlation"
   ]
  },
  {
   "cell_type": "markdown",
   "id": "31ae9a9b",
   "metadata": {},
   "source": [
    "<a id='g'></a>\n",
    "## g\n",
    "Use the model in part (e) with k1 = k2 = 1 to generate a set of twenty one-step-ahead predictions for the\n",
    "growth rates in each quarter of the period 2011 to 2015. Note that the required values of the lagged leading\n",
    "indicators are available for each of these forecasts. Calculate the root mean squared error of these forecasts\n",
    "and present a time series graph of the predictions and the actual growth rates."
   ]
  },
  {
   "cell_type": "code",
   "execution_count": 10,
   "id": "7004c689",
   "metadata": {},
   "outputs": [
    {
     "data": {
      "image/png": "[encoded data removed]",
      "text/plain": [
       "<Figure size 720x504 with 1 Axes>"
      ]
     },
     "metadata": {
      "needs_background": "light"
     },
     "output_type": "display_data"
    }
   ],
   "source": [
    "X=evalset[['GrowthRatemin1','li1min1','li2min1']]\n",
    "X= sm.add_constant(X)\n",
    "predict=res1.predict(X)\n",
    "evalset['predict']=predict\n",
    "\n",
    "# plot lines\n",
    "plt.rcParams['figure.figsize'] = [10, 7]\n",
    "plt.plot(evalset['date'], evalset['predict'], label = \"predict\")\n",
    "plt.plot(evalset['date'], evalset['GrowthRate'], label = \"GrowthRate\")\n",
    "plt.legend()\n",
    "plt.show()"
   ]
  },
  {
   "cell_type": "code",
   "execution_count": 11,
   "id": "75163e98",
   "metadata": {},
   "outputs": [
    {
     "name": "stdout",
     "output_type": "stream",
     "text": [
      "Root Mean Square Error: 0.0031594865463873928\n"
     ]
    }
   ],
   "source": [
    "MSE = np.square(np.subtract(evalset['GrowthRate'],evalset['predict'])).mean() \n",
    "RMSE = math.sqrt(MSE)\n",
    "print(\"Root Mean Square Error: \"+str(RMSE))\n"
   ]
  }
 ],
 "metadata": {
  "kernelspec": {
   "display_name": "Python 3 (ipykernel)",
   "language": "python",
   "name": "python3"
  },
  "language_info": {
   "codemirror_mode": {
    "name": "ipython",
    "version": 3
   },
   "file_extension": ".py",
   "mimetype": "text/x-python",
   "name": "python",
   "nbconvert_exporter": "python",
   "pygments_lexer": "ipython3",
   "version": "3.9.7"
  }
 },
 "nbformat": 4,
 "nbformat_minor": 5
}
