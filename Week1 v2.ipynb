{
 "cells": [
  {
   "cell_type": "markdown",
   "id": "58eb8aa3",
   "metadata": {},
   "source": [
    "# Econometrics Week 1 linear regression Assignment\n",
    "\n",
    "| Name | Description | Date \n",
    "| :- |-------------: | :-:\n",
    "|Thijs Meijerink| Econometrics| 16th of December 2022 |\n"
   ]
  },
  {
   "cell_type": "markdown",
   "id": "9cb1183c",
   "metadata": {},
   "source": [
    "## Questions\n",
    "<ul>\n",
    "<li><a href=\"#prep\">Preparation</a></li>\n",
    "<li><a href=\"#a\">a </a></li>\n",
    "<li><a href=\"#b\">b</a></li>\n",
    "<li><a href=\"#c\">c</a></li>\n",
    "<li><a href=\"#d\">d</a></li>\n",
    "</ul>\n"
   ]
  },
  {
   "cell_type": "markdown",
   "id": "3feb1298",
   "metadata": {},
   "source": [
    "<a id='prep'></a>\n",
    "## Preparation"
   ]
  },
  {
   "cell_type": "code",
   "execution_count": 46,
   "id": "ca64d4d9",
   "metadata": {},
   "outputs": [],
   "source": [
    "import numpy as np\n",
    "import pandas as pd\n",
    "from sklearn.metrics import r2_score\n",
    "from sklearn.linear_model import LinearRegression\n",
    "from sklearn.feature_selection import f_regression as fp\n",
    "import statsmodels.api as sm\n",
    "import matplotlib.pyplot as plt"
   ]
  },
  {
   "cell_type": "code",
   "execution_count": 47,
   "id": "31f5647a",
   "metadata": {},
   "outputs": [
    {
     "data": {
      "text/html": [
       "<div>\n",
       "<style scoped>\n",
       "    .dataframe tbody tr th:only-of-type {\n",
       "        vertical-align: middle;\n",
       "    }\n",
       "\n",
       "    .dataframe tbody tr th {\n",
       "        vertical-align: top;\n",
       "    }\n",
       "\n",
       "    .dataframe thead th {\n",
       "        text-align: right;\n",
       "    }\n",
       "</style>\n",
       "<table border=\"1\" class=\"dataframe\">\n",
       "  <thead>\n",
       "    <tr style=\"text-align: right;\">\n",
       "      <th></th>\n",
       "      <th>Observation</th>\n",
       "      <th>Age</th>\n",
       "      <th>Expenditures</th>\n",
       "    </tr>\n",
       "  </thead>\n",
       "  <tbody>\n",
       "    <tr>\n",
       "      <th>0</th>\n",
       "      <td>1</td>\n",
       "      <td>49</td>\n",
       "      <td>95</td>\n",
       "    </tr>\n",
       "    <tr>\n",
       "      <th>1</th>\n",
       "      <td>2</td>\n",
       "      <td>15</td>\n",
       "      <td>104</td>\n",
       "    </tr>\n",
       "    <tr>\n",
       "      <th>2</th>\n",
       "      <td>3</td>\n",
       "      <td>43</td>\n",
       "      <td>91</td>\n",
       "    </tr>\n",
       "    <tr>\n",
       "      <th>3</th>\n",
       "      <td>4</td>\n",
       "      <td>45</td>\n",
       "      <td>98</td>\n",
       "    </tr>\n",
       "    <tr>\n",
       "      <th>4</th>\n",
       "      <td>5</td>\n",
       "      <td>40</td>\n",
       "      <td>94</td>\n",
       "    </tr>\n",
       "  </tbody>\n",
       "</table>\n",
       "</div>"
      ],
      "text/plain": [
       "   Observation  Age  Expenditures\n",
       "0            1   49            95\n",
       "1            2   15           104\n",
       "2            3   43            91\n",
       "3            4   45            98\n",
       "4            5   40            94"
      ]
     },
     "execution_count": 47,
     "metadata": {},
     "output_type": "execute_result"
    }
   ],
   "source": [
    "file_location=\"./TestExer1-holiday expenditures-round2.xls\"\n",
    "TestExer = pd.read_excel(file_location)\n",
    "TestExer.head() # sample data"
   ]
  },
  {
   "cell_type": "markdown",
   "id": "166dff8f",
   "metadata": {},
   "source": [
    "<a id='a'></a>\n",
    "## a\n",
    "Use all data to estimate the coefficients a and b in a simple regression model, where expenditures is the\n",
    "dependent variable and age is the explanatory factor. Also compute the standard error and the t-value of b."
   ]
  },
  {
   "cell_type": "code",
   "execution_count": 57,
   "id": "ed09ac42",
   "metadata": {},
   "outputs": [
    {
     "name": "stdout",
     "output_type": "stream",
     "text": [
      "                            OLS Regression Results                            \n",
      "==============================================================================\n",
      "Dep. Variable:           Expenditures   R-squared:                       0.338\n",
      "Model:                            OLS   Adj. R-squared:                  0.310\n",
      "Method:                 Least Squares   F-statistic:                     12.24\n",
      "Date:                Fri, 16 Dec 2022   Prob (F-statistic):            0.00185\n",
      "Time:                        12:51:23   Log-Likelihood:                -78.076\n",
      "No. Observations:                  26   AIC:                             160.2\n",
      "Df Residuals:                      24   BIC:                             162.7\n",
      "Df Model:                           1                                         \n",
      "Covariance Type:            nonrobust                                         \n",
      "==============================================================================\n",
      "                 coef    std err          t      P>|t|      [0.025      0.975]\n",
      "------------------------------------------------------------------------------\n",
      "const        114.2411      3.882     29.428      0.000     106.229     122.253\n",
      "x1            -0.3336      0.095     -3.498      0.002      -0.530      -0.137\n",
      "==============================================================================\n",
      "Omnibus:                        5.126   Durbin-Watson:                   1.955\n",
      "Prob(Omnibus):                  0.077   Jarque-Bera (JB):                1.689\n",
      "Skew:                          -0.021   Prob(JB):                        0.430\n",
      "Kurtosis:                       1.752   Cond. No.                         159.\n",
      "==============================================================================\n",
      "\n",
      "Notes:\n",
      "[1] Standard Errors assume that the covariance matrix of the errors is correctly specified.\n"
     ]
    }
   ],
   "source": [
    "x = TestExer.Age.values.reshape(-1,1) # independent variable\n",
    "y = TestExer.Expenditures # dependent variable\n",
    "\n",
    "x = sm.add_constant(x)\n",
    "model = sm.OLS(y, x).fit()\n",
    "print(model.summary())"
   ]
  },
  {
   "cell_type": "markdown",
   "id": "2e62d5c8",
   "metadata": {},
   "source": [
    "Thus coefficients are a= 114.23 and b= -0.33\n",
    "\n",
    "Standard errors are a= 3.89 and b= 0.09\n",
    "\n",
    "t-values are a= 29.43 and b= -3.49"
   ]
  },
  {
   "cell_type": "markdown",
   "id": "becad74e",
   "metadata": {},
   "source": [
    "<a id='b'></a>\n",
    "## b\n",
    "Make the scatter diagram of expenditures against age and add the regression line y = a + bx of part (a) in\n",
    "this diagram. What conclusion do you draw from this diagram?"
   ]
  },
  {
   "cell_type": "code",
   "execution_count": 60,
   "id": "e51ff8f2",
   "metadata": {},
   "outputs": [
    {
     "data": {
      "image/png": "[encoded data removed]",
      "text/plain": [
       "<Figure size 432x288 with 1 Axes>"
      ]
     },
     "metadata": {
      "needs_background": "light"
     },
     "output_type": "display_data"
    }
   ],
   "source": [
    "x1 = np.array(TestExer['Age'])\n",
    "y1 = np.array(TestExer['Expenditures'])\n",
    "plt.plot(x1, y1, 'o')\n",
    "\n",
    "m, b = np.polyfit(x1, y1, 1)\n",
    "\n",
    "plt.plot(x1, m*x1+b)\n",
    "plt.show()"
   ]
  },
  {
   "cell_type": "markdown",
   "id": "cd160fbf",
   "metadata": {},
   "source": [
    "Concluding: The older the person the lower the expenditure."
   ]
  },
  {
   "cell_type": "markdown",
   "id": "70f11661",
   "metadata": {},
   "source": [
    "<a id='c'></a>\n",
    "## c\n",
    "It seems there are two sets of observations in the scatter diagram, one for clients aged 40 or higher and\n",
    "another for clients aged below 40. Divide the sample into these two clusters, and for each cluster estimate the\n",
    "coefficients a and b and determine the standard error and t-value of b."
   ]
  },
  {
   "cell_type": "code",
   "execution_count": 64,
   "id": "df9801d1",
   "metadata": {},
   "outputs": [
    {
     "data": {
      "image/png": "[encoded data removed]",
      "text/plain": [
       "<Figure size 432x288 with 1 Axes>"
      ]
     },
     "metadata": {
      "needs_background": "light"
     },
     "output_type": "display_data"
    }
   ],
   "source": [
    "##Scatter plot\n",
    "x1 = np.array(TestExer['Age'][TestExer['Age']<40])\n",
    "y1 = np.array(TestExer['Expenditures'][TestExer['Age']<40])\n",
    "plt.plot(x1, y1, 'o')\n",
    "\n",
    "x2 = np.array(TestExer['Age'][TestExer['Age']>40])\n",
    "y2 = np.array(TestExer['Expenditures'][TestExer['Age']>40])\n",
    "plt.plot(x2, y2, 'o')\n",
    "\n",
    "m, b = np.polyfit(x1, y1, 1)\n",
    "plt.plot(x1, m*x1+b)\n",
    "m, b = np.polyfit(x2, y2, 1)\n",
    "plt.plot(x2, m*x2+b)\n",
    "plt.show()"
   ]
  },
  {
   "cell_type": "code",
   "execution_count": 62,
   "id": "13855593",
   "metadata": {},
   "outputs": [
    {
     "name": "stdout",
     "output_type": "stream",
     "text": [
      "                            OLS Regression Results                            \n",
      "==============================================================================\n",
      "Dep. Variable:           Expenditures   R-squared:                       0.644\n",
      "Model:                            OLS   Adj. R-squared:                  0.612\n",
      "Method:                 Least Squares   F-statistic:                     19.90\n",
      "Date:                Fri, 16 Dec 2022   Prob (F-statistic):           0.000962\n",
      "Time:                        13:05:06   Log-Likelihood:                -19.212\n",
      "No. Observations:                  13   AIC:                             42.42\n",
      "Df Residuals:                      11   BIC:                             43.55\n",
      "Df Model:                           1                                         \n",
      "Covariance Type:            nonrobust                                         \n",
      "==============================================================================\n",
      "                 coef    std err          t      P>|t|      [0.025      0.975]\n",
      "------------------------------------------------------------------------------\n",
      "const        100.2323      1.416     70.791      0.000      97.116     103.349\n",
      "x1             0.1980      0.044      4.460      0.001       0.100       0.296\n",
      "==============================================================================\n",
      "Omnibus:                        0.100   Durbin-Watson:                   1.864\n",
      "Prob(Omnibus):                  0.951   Jarque-Bera (JB):                0.154\n",
      "Skew:                          -0.135   Prob(JB):                        0.926\n",
      "Kurtosis:                       2.541   Cond. No.                         141.\n",
      "==============================================================================\n",
      "\n",
      "Notes:\n",
      "[1] Standard Errors assume that the covariance matrix of the errors is correctly specified.\n"
     ]
    },
    {
     "name": "stderr",
     "output_type": "stream",
     "text": [
      "C:\\ProgramData\\Anaconda3\\lib\\site-packages\\scipy\\stats\\stats.py:1541: UserWarning: kurtosistest only valid for n>=20 ... continuing anyway, n=13\n",
      "  warnings.warn(\"kurtosistest only valid for n>=20 ... continuing \"\n"
     ]
    }
   ],
   "source": [
    "##Below 40\n",
    "x = TestExer['Age'][TestExer['Age']<40].values.reshape(-1,1) # independent variable\n",
    "y = TestExer['Expenditures'][TestExer['Age']<40] # dependent variable\n",
    "\n",
    "x = sm.add_constant(x)\n",
    "model = sm.OLS(y, x).fit()\n",
    "print(model.summary())"
   ]
  },
  {
   "cell_type": "code",
   "execution_count": 63,
   "id": "8dcf86fa",
   "metadata": {},
   "outputs": [
    {
     "name": "stdout",
     "output_type": "stream",
     "text": [
      "                            OLS Regression Results                            \n",
      "==============================================================================\n",
      "Dep. Variable:           Expenditures   R-squared:                       0.031\n",
      "Model:                            OLS   Adj. R-squared:                 -0.066\n",
      "Method:                 Least Squares   F-statistic:                    0.3164\n",
      "Date:                Fri, 16 Dec 2022   Prob (F-statistic):              0.586\n",
      "Time:                        13:07:15   Log-Likelihood:                -32.603\n",
      "No. Observations:                  12   AIC:                             69.21\n",
      "Df Residuals:                      10   BIC:                             70.18\n",
      "Df Model:                           1                                         \n",
      "Covariance Type:            nonrobust                                         \n",
      "==============================================================================\n",
      "                 coef    std err          t      P>|t|      [0.025      0.975]\n",
      "------------------------------------------------------------------------------\n",
      "const         89.8584     10.979      8.184      0.000      65.395     114.322\n",
      "x1             0.1273      0.226      0.563      0.586      -0.377       0.631\n",
      "==============================================================================\n",
      "Omnibus:                        0.973   Durbin-Watson:                   2.693\n",
      "Prob(Omnibus):                  0.615   Jarque-Bera (JB):                0.455\n",
      "Skew:                          -0.460   Prob(JB):                        0.797\n",
      "Kurtosis:                       2.746   Cond. No.                         460.\n",
      "==============================================================================\n",
      "\n",
      "Notes:\n",
      "[1] Standard Errors assume that the covariance matrix of the errors is correctly specified.\n"
     ]
    },
    {
     "name": "stderr",
     "output_type": "stream",
     "text": [
      "C:\\ProgramData\\Anaconda3\\lib\\site-packages\\scipy\\stats\\stats.py:1541: UserWarning: kurtosistest only valid for n>=20 ... continuing anyway, n=12\n",
      "  warnings.warn(\"kurtosistest only valid for n>=20 ... continuing \"\n"
     ]
    }
   ],
   "source": [
    "##Above 40\n",
    "x = TestExer['Age'][TestExer['Age']>40].values.reshape(-1,1) # independent variable\n",
    "y = TestExer['Expenditures'][TestExer['Age']>40] # dependent variable\n",
    "\n",
    "x = sm.add_constant(x)\n",
    "model = sm.OLS(y, x).fit()\n",
    "print(model.summary())"
   ]
  },
  {
   "cell_type": "markdown",
   "id": "24c6e47d",
   "metadata": {},
   "source": [
    "#### Below 40\n",
    "Thus coefficients are a= 100.23 and b= 0.19\n",
    "\n",
    "Standard errors are a= 1.416 and b= 0.044\n",
    "\n",
    "t-values are a= 70.79 and b= 4.460\n",
    "\n",
    "#### Above 40\n",
    "Thus coefficients are a= 89.85 and b= 0.12\n",
    "\n",
    "Standard errors are a= 10.979 and b= 0.226\n",
    "\n",
    "t-values are a= 8.184 and b= 0.563"
   ]
  },
  {
   "cell_type": "markdown",
   "id": "ba303bd7",
   "metadata": {},
   "source": [
    "<a id='d'></a>\n",
    "## d\n",
    "Discuss and explain the main differences between the outcomes in parts (a) and (c). Describe in words what\n",
    "you have learned from these results."
   ]
  },
  {
   "cell_type": "markdown",
   "id": "9adb516d",
   "metadata": {},
   "source": [
    "It looks like the data is not consistant, it would therefore not trust it. Especially since the relation between the two group do not align. The group below 40 seems to have a stronger trend which might be an actual relationship. If we would treat the data as two groups, it seems that the expenditure increases with the age."
   ]
  },
  {
   "cell_type": "code",
   "execution_count": null,
   "id": "55b42977",
   "metadata": {},
   "outputs": [],
   "source": []
  }
 ],
 "metadata": {
  "kernelspec": {
   "display_name": "Python 3 (ipykernel)",
   "language": "python",
   "name": "python3"
  },
  "language_info": {
   "codemirror_mode": {
    "name": "ipython",
    "version": 3
   },
   "file_extension": ".py",
   "mimetype": "text/x-python",
   "name": "python",
   "nbconvert_exporter": "python",
   "pygments_lexer": "ipython3",
   "version": "3.9.7"
  }
 },
 "nbformat": 4,
 "nbformat_minor": 5
}
