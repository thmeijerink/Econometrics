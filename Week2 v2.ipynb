{
 "cells": [
  {
   "cell_type": "markdown",
   "id": "e9e19d62",
   "metadata": {},
   "source": [
    "# Econometrics Week 2 Multiple regression Assignment\n",
    "\n",
    "| Name | Description | Date \n",
    "| :- |-------------: | :-:\n",
    "|Thijs Meijerink| Econometrics| 16th of December 2022 |\n"
   ]
  },
  {
   "cell_type": "markdown",
   "id": "ba10769c",
   "metadata": {},
   "source": [
    "## Questions\n",
    "<ul>\n",
    "<li><a href=\"#prep\">Preparation</a></li>\n",
    "<li><a href=\"#aI\">a I</a></li>\n",
    "<li><a href=\"#aII\">a II</a></li>\n",
    "<li><a href=\"#b\">b</a></li>\n",
    "<li><a href=\"#c\">c</a></li>\n",
    "<li><a href=\"#dI\">d I</a></li>\n",
    "<li><a href=\"#dI\">d II</a></li>\n",
    "</ul>\n"
   ]
  },
  {
   "cell_type": "markdown",
   "id": "4cbcd6b3",
   "metadata": {},
   "source": [
    "<a id='prep'></a>\n",
    "## Preparation"
   ]
  },
  {
   "cell_type": "code",
   "execution_count": 1,
   "id": "c522c454",
   "metadata": {},
   "outputs": [],
   "source": [
    "import numpy as np\n",
    "import pandas as pd\n",
    "from sklearn.metrics import r2_score\n",
    "from sklearn.linear_model import LinearRegression\n",
    "from sklearn.feature_selection import f_regression as fp"
   ]
  },
  {
   "cell_type": "code",
   "execution_count": 2,
   "id": "6a10d6de",
   "metadata": {},
   "outputs": [
    {
     "data": {
      "text/html": [
       "<div>\n",
       "<style scoped>\n",
       "    .dataframe tbody tr th:only-of-type {\n",
       "        vertical-align: middle;\n",
       "    }\n",
       "\n",
       "    .dataframe tbody tr th {\n",
       "        vertical-align: top;\n",
       "    }\n",
       "\n",
       "    .dataframe thead th {\n",
       "        text-align: right;\n",
       "    }\n",
       "</style>\n",
       "<table border=\"1\" class=\"dataframe\">\n",
       "  <thead>\n",
       "    <tr style=\"text-align: right;\">\n",
       "      <th></th>\n",
       "      <th>Observation</th>\n",
       "      <th>FGPA</th>\n",
       "      <th>SATM</th>\n",
       "      <th>SATV</th>\n",
       "      <th>FEM</th>\n",
       "    </tr>\n",
       "  </thead>\n",
       "  <tbody>\n",
       "    <tr>\n",
       "      <th>0</th>\n",
       "      <td>1</td>\n",
       "      <td>2.518</td>\n",
       "      <td>4.0</td>\n",
       "      <td>4.0</td>\n",
       "      <td>1</td>\n",
       "    </tr>\n",
       "    <tr>\n",
       "      <th>1</th>\n",
       "      <td>2</td>\n",
       "      <td>2.326</td>\n",
       "      <td>4.9</td>\n",
       "      <td>3.1</td>\n",
       "      <td>0</td>\n",
       "    </tr>\n",
       "    <tr>\n",
       "      <th>2</th>\n",
       "      <td>3</td>\n",
       "      <td>3.003</td>\n",
       "      <td>4.4</td>\n",
       "      <td>4.0</td>\n",
       "      <td>1</td>\n",
       "    </tr>\n",
       "    <tr>\n",
       "      <th>3</th>\n",
       "      <td>4</td>\n",
       "      <td>2.111</td>\n",
       "      <td>4.9</td>\n",
       "      <td>3.9</td>\n",
       "      <td>0</td>\n",
       "    </tr>\n",
       "    <tr>\n",
       "      <th>4</th>\n",
       "      <td>5</td>\n",
       "      <td>2.145</td>\n",
       "      <td>4.3</td>\n",
       "      <td>4.7</td>\n",
       "      <td>0</td>\n",
       "    </tr>\n",
       "  </tbody>\n",
       "</table>\n",
       "</div>"
      ],
      "text/plain": [
       "   Observation   FGPA  SATM  SATV  FEM\n",
       "0            1  2.518   4.0   4.0    1\n",
       "1            2  2.326   4.9   3.1    0\n",
       "2            3  3.003   4.4   4.0    1\n",
       "3            4  2.111   4.9   3.9    0\n",
       "4            5  2.145   4.3   4.7    0"
      ]
     },
     "execution_count": 2,
     "metadata": {},
     "output_type": "execute_result"
    }
   ],
   "source": [
    "file_location=\"./TestExer2-GPA-round2.xls\"\n",
    "TestExer = pd.read_excel(file_location)\n",
    "TestExer.head() # sample data"
   ]
  },
  {
   "cell_type": "markdown",
   "id": "41654345",
   "metadata": {},
   "source": [
    "<a id='aI'></a>\n",
    "## a I\n",
    "Regress FGPA on a constant and SATV. Report the coefficient of SATV and its standard error and p-value\n",
    "(give your answers with 3 decimals)."
   ]
  },
  {
   "cell_type": "code",
   "execution_count": 3,
   "id": "6890117b",
   "metadata": {},
   "outputs": [
    {
     "name": "stdout",
     "output_type": "stream",
     "text": [
      "The coefficient rounded to 3 decimals is:  0.063\n",
      "The Standard error to 3 decimals is:  0.028\n",
      "The P-Value rounded to 3 decimals is:  0.023\n"
     ]
    }
   ],
   "source": [
    "SATV = TestExer.SATV.values.reshape(-1,1) # independent variable\n",
    "FGPA = TestExer.FGPA # dependent variable\n",
    "\n",
    "model_a = LinearRegression()\n",
    "model_a.fit(X=SATV, y=FGPA)\n",
    "\n",
    "FGPA_pred = model_a.predict(SATV)\n",
    "SSE_a = ((FGPA - FGPA_pred)**2).sum() # sum of squared error\n",
    "s_a = np.sqrt((SSE_a)/(len(FGPA)-2)) # standard error for part a\n",
    "s_b_sq = s_a**2 / ((SATV - SATV.mean())**2).sum() # std. error sq of slope\n",
    "s_b = np.sqrt(s_b_sq)\n",
    "F_test, P_value = fp(SATV, FGPA)\n",
    "                     \n",
    "print(\"The coefficient rounded to 3 decimals is: \", round(model_a.coef_[0], 3))\n",
    "print(\"The Standard error to 3 decimals is: \", round(s_b, 3))\n",
    "print(\"The P-Value rounded to 3 decimals is: \", round(P_value[0], 3))"
   ]
  },
  {
   "cell_type": "markdown",
   "id": "4e3923d4",
   "metadata": {},
   "source": [
    "<a id='aII'></a>\n",
    "## a II\n",
    "Determine a 95% confidence interval (with 3 decimals) for the effect on FGPA of an increase by 1 point\n",
    "in SATV."
   ]
  },
  {
   "cell_type": "code",
   "execution_count": 4,
   "id": "cfde1561",
   "metadata": {},
   "outputs": [
    {
     "name": "stdout",
     "output_type": "stream",
     "text": [
      "The 95% confidence interval for effect on FGPA with an increase by 1 point is:  \n",
      " [0.008865143716587268, 0.11730654703910483]\n"
     ]
    }
   ],
   "source": [
    "lower_limit = (model_a.coef_ - 1.96*s_b)\n",
    "upper_limit = model_a.coef_ + 1.96*s_b\n",
    "conf_interval = [lower_limit[0], upper_limit[0]]\n",
    "\n",
    "\n",
    "print(\"The 95% confidence interval for effect on FGPA with an increase by 1 point is: \",\"\\n\",conf_interval)\n"
   ]
  },
  {
   "cell_type": "markdown",
   "id": "ba193aee",
   "metadata": {},
   "source": [
    "<a id='b'></a>\n",
    "## b\n",
    "Answer questions (a-i) and (a-ii) also for the regression of FGPA on a constant, SATV, SATM, and FEM."
   ]
  },
  {
   "cell_type": "code",
   "execution_count": 5,
   "id": "64ac302c",
   "metadata": {},
   "outputs": [
    {
     "name": "stdout",
     "output_type": "stream",
     "text": [
      "The coefficient of  SATV : 0.014\n",
      "The Standard error of  SATV : 0.027\n",
      "The 95% confidence interval for effect on SATV with an increase by 1 point is:  \n",
      " [-0.0379828616965111, 0.06630665477720399]\n",
      "\n",
      "\n",
      "The coefficient of  SATM : 0.173\n",
      "The Standard error of  SATM : 0.03\n",
      "The 95% confidence interval for effect on SATM with an increase by 1 point is:  \n",
      " [0.11388380757804958, 0.23158796707083248]\n",
      "\n",
      "\n",
      "The coefficient of  FEM : 0.2\n",
      "The Standard error of  FEM : 0.037\n",
      "The 95% confidence interval for effect on FEM with an increase by 1 point is:  \n",
      " [0.12836201902588612, 0.27218119098316584]\n",
      "\n",
      "\n"
     ]
    }
   ],
   "source": [
    "X = TestExer[[\"SATV\", \"SATM\", \"FEM\"]] # independent variable\n",
    "y = TestExer.FGPA # dependent variable\n",
    "listvar= [\"SATV\", \"SATM\", \"FEM\"]\n",
    "\n",
    "model_b = LinearRegression()\n",
    "model_b.fit(X, y)\n",
    "np.around(model_b.coef_, 3)\n",
    "\n",
    "y_pred = model_b.predict(X)\n",
    "SSE_a2 = ((y - y_pred)**2).sum() # sum of squared error\n",
    "s_a2 = np.sqrt((SSE_a2)/(len(X)-2)) # standard error\n",
    "\n",
    "for i in listvar:\n",
    "    s_b1_sq = s_a2**2 / ((TestExer[i] - TestExer[i].mean())**2).sum() \n",
    "    s_b1 = np.sqrt(s_b1_sq)\n",
    "\n",
    "    lower_limit = (model_b.coef_[listvar.index(i)] - 1.96*s_b1)\n",
    "    upper_limit = model_b.coef_[listvar.index(i)] + 1.96*s_b1\n",
    "    conf_interval = [lower_limit, upper_limit]\n",
    "\n",
    "    print(\"The coefficient of \", str(i),\":\", round(model_b.coef_[listvar.index(i)], 3))\n",
    "    print(\"The Standard error of \", str(i),\":\", round(s_b1, 3))\n",
    "    print(\"The 95% confidence interval for effect on\", str(i), \"with an increase by 1 point is: \",\"\\n\",conf_interval)\n",
    "    print(\"\\n\")"
   ]
  },
  {
   "cell_type": "markdown",
   "id": "f394c2fd",
   "metadata": {},
   "source": [
    "<a id='c'></a>\n",
    "## c\n",
    "Determine the (4 × 4) correlation matrix of FGPA, SATV, SATM, and FEM. Use these correlations to explain\n",
    "the differences between the outcomes in parts (a) and (b)."
   ]
  },
  {
   "cell_type": "code",
   "execution_count": 6,
   "id": "f7757cab",
   "metadata": {},
   "outputs": [
    {
     "data": {
      "text/html": [
       "<div>\n",
       "<style scoped>\n",
       "    .dataframe tbody tr th:only-of-type {\n",
       "        vertical-align: middle;\n",
       "    }\n",
       "\n",
       "    .dataframe tbody tr th {\n",
       "        vertical-align: top;\n",
       "    }\n",
       "\n",
       "    .dataframe thead th {\n",
       "        text-align: right;\n",
       "    }\n",
       "</style>\n",
       "<table border=\"1\" class=\"dataframe\">\n",
       "  <thead>\n",
       "    <tr style=\"text-align: right;\">\n",
       "      <th></th>\n",
       "      <th>FGPA</th>\n",
       "      <th>SATV</th>\n",
       "      <th>SATM</th>\n",
       "      <th>FEM</th>\n",
       "    </tr>\n",
       "  </thead>\n",
       "  <tbody>\n",
       "    <tr>\n",
       "      <th>FGPA</th>\n",
       "      <td>1.000000</td>\n",
       "      <td>0.092167</td>\n",
       "      <td>0.195040</td>\n",
       "      <td>0.176491</td>\n",
       "    </tr>\n",
       "    <tr>\n",
       "      <th>SATV</th>\n",
       "      <td>0.092167</td>\n",
       "      <td>1.000000</td>\n",
       "      <td>0.287801</td>\n",
       "      <td>0.033577</td>\n",
       "    </tr>\n",
       "    <tr>\n",
       "      <th>SATM</th>\n",
       "      <td>0.195040</td>\n",
       "      <td>0.287801</td>\n",
       "      <td>1.000000</td>\n",
       "      <td>-0.162680</td>\n",
       "    </tr>\n",
       "    <tr>\n",
       "      <th>FEM</th>\n",
       "      <td>0.176491</td>\n",
       "      <td>0.033577</td>\n",
       "      <td>-0.162680</td>\n",
       "      <td>1.000000</td>\n",
       "    </tr>\n",
       "  </tbody>\n",
       "</table>\n",
       "</div>"
      ],
      "text/plain": [
       "          FGPA      SATV      SATM       FEM\n",
       "FGPA  1.000000  0.092167  0.195040  0.176491\n",
       "SATV  0.092167  1.000000  0.287801  0.033577\n",
       "SATM  0.195040  0.287801  1.000000 -0.162680\n",
       "FEM   0.176491  0.033577 -0.162680  1.000000"
      ]
     },
     "execution_count": 6,
     "metadata": {},
     "output_type": "execute_result"
    }
   ],
   "source": [
    "subset_df = TestExer[[\"FGPA\", \"SATV\", \"SATM\", \"FEM\"]]\n",
    "subset_df.corr()"
   ]
  },
  {
   "cell_type": "markdown",
   "id": "8bed20dc",
   "metadata": {},
   "source": [
    "<a id='dI'></a>\n",
    "## d I\n",
    "Perform an F -test on the significance (at the 5% level) of the effect of SATV on FGPA, based on the\n",
    "regression in part (b) and another regression.\n",
    "Note: Use the F -test in terms of SSR or R2 and use 6 decimals in your computations. The relevant\n",
    "critical value is 3.9."
   ]
  },
  {
   "cell_type": "code",
   "execution_count": 7,
   "id": "7175ccc6",
   "metadata": {},
   "outputs": [
    {
     "name": "stdout",
     "output_type": "stream",
     "text": [
      "The Part-B Model SSR rounded to 6 decimals is:  118.101025\n",
      "The Part-B Model R^2 rounded to 6 decimals is:  0.082965\n",
      "\n",
      "\n",
      "The Modified Model SSR rounded to 6 decimals is:  118.151224\n",
      "The Modified Model R^2 rounded to 6 decimals is:  0.082575\n"
     ]
    }
   ],
   "source": [
    "model_h0 = LinearRegression()\n",
    "X_h0 = TestExer[[\"SATM\", \"FEM\"]]\n",
    "y_h0 = TestExer.FGPA\n",
    "\n",
    "model_h0.fit(X_h0, y_h0)\n",
    "y_pred_h0 = model_h0.predict(X_h0)\n",
    "\n",
    "SSR_h0_sq = (y_h0 - y_pred_h0)**2\n",
    "SSR_h0 = SSR_h0_sq.sum()\n",
    "r_sq_h0 = r2_score(y_h0, y_pred_h0)\n",
    "\n",
    "SSR_b_sq = (y - y_pred)**2\n",
    "SSR_b = SSR_b_sq.sum()\n",
    "r_sq_b = r2_score(y, y_pred)\n",
    "\n",
    "F = (SSR_h0 - SSR_b) / (SSR_b / 605)\n",
    "\n",
    "print(\"The Part-B Model SSR rounded to 6 decimals is: \", format(SSR_b, '.6f'))\n",
    "print(\"The Part-B Model R^2 rounded to 6 decimals is: \", format(r_sq_b, '.6f'))\n",
    "print(\"\\n\")\n",
    "print(\"The Modified Model SSR rounded to 6 decimals is: \", format(SSR_h0, '.6f'))\n",
    "print(\"The Modified Model R^2 rounded to 6 decimals is: \", format(r_sq_h0, '.6f'))"
   ]
  },
  {
   "cell_type": "markdown",
   "id": "8de20d6a",
   "metadata": {},
   "source": [
    "<a id='dII'></a>\n",
    "## d II\n",
    "check numerically that F = t^2."
   ]
  },
  {
   "cell_type": "code",
   "execution_count": 8,
   "id": "1af9c69a",
   "metadata": {},
   "outputs": [
    {
     "name": "stdout",
     "output_type": "stream",
     "text": [
      "The F statistic rounded to 3 decimals is:  0.257\n"
     ]
    }
   ],
   "source": [
    "print(\"The F statistic rounded to 3 decimals is: \", format(F, '.3f'))"
   ]
  },
  {
   "cell_type": "markdown",
   "id": "31ae9a9b",
   "metadata": {},
   "source": [
    "Value of the F-statistic is less than the provided critical value, thus null hypothesis H0 is not rejected."
   ]
  },
  {
   "cell_type": "code",
   "execution_count": null,
   "id": "7004c689",
   "metadata": {},
   "outputs": [],
   "source": []
  }
 ],
 "metadata": {
  "kernelspec": {
   "display_name": "Python 3 (ipykernel)",
   "language": "python",
   "name": "python3"
  },
  "language_info": {
   "codemirror_mode": {
    "name": "ipython",
    "version": 3
   },
   "file_extension": ".py",
   "mimetype": "text/x-python",
   "name": "python",
   "nbconvert_exporter": "python",
   "pygments_lexer": "ipython3",
   "version": "3.9.7"
  }
 },
 "nbformat": 4,
 "nbformat_minor": 5
}
